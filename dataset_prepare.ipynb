{
 "cells": [
  {
   "cell_type": "code",
   "execution_count": 58,
   "outputs": [
    {
     "name": "stdout",
     "output_type": "stream",
     "text": [
      "       Unnamed: 0     id  label    i  rounds  sample   z  c  \\\n",
      "0               0      0      2    0       1      10   0  0   \n",
      "1               0      1      2    0       1      10   0  1   \n",
      "2               0      2      1    0       1      10   1  0   \n",
      "3               0      3      1    0       1      10   1  1   \n",
      "4               0      4      1    0       1      10   2  0   \n",
      "...           ...    ...    ...  ...     ...     ...  .. ..   \n",
      "20667           0  20667      0  821       3      16  14  1   \n",
      "20668           0  20668      0  821       3      16  15  0   \n",
      "20669           0  20669      0  821       3      16  15  1   \n",
      "20670           0  20670      0  821       3      16  16  0   \n",
      "20671           0  20671      0  821       3      16  16  1   \n",
      "\n",
      "                                            new_filename  \\\n",
      "0      C:\\workspace\\Binary_sharpness\\data\\images\\0_i0...   \n",
      "1      C:\\workspace\\Binary_sharpness\\data\\images\\1_i0...   \n",
      "2      C:\\workspace\\Binary_sharpness\\data\\images\\2_i0...   \n",
      "3      C:\\workspace\\Binary_sharpness\\data\\images\\3_i0...   \n",
      "4      C:\\workspace\\Binary_sharpness\\data\\images\\4_i0...   \n",
      "...                                                  ...   \n",
      "20667  C:\\workspace\\Binary_sharpness\\data\\images\\2066...   \n",
      "20668  C:\\workspace\\Binary_sharpness\\data\\images\\2066...   \n",
      "20669  C:\\workspace\\Binary_sharpness\\data\\images\\2066...   \n",
      "20670  C:\\workspace\\Binary_sharpness\\data\\images\\2067...   \n",
      "20671  C:\\workspace\\Binary_sharpness\\data\\images\\2067...   \n",
      "\n",
      "                                                  origin  \n",
      "0      Z:\\2021_ASAP_pilot_study\\Pilot - Week1 Round1\\...  \n",
      "1      Z:\\2021_ASAP_pilot_study\\Pilot - Week1 Round1\\...  \n",
      "2      Z:\\2021_ASAP_pilot_study\\Pilot - Week1 Round1\\...  \n",
      "3      Z:\\2021_ASAP_pilot_study\\Pilot - Week1 Round1\\...  \n",
      "4      Z:\\2021_ASAP_pilot_study\\Pilot - Week1 Round1\\...  \n",
      "...                                                  ...  \n",
      "20667  Z:\\2021_ASAP_pilot_study\\Pilot - Week2 Round3\\...  \n",
      "20668  Z:\\2021_ASAP_pilot_study\\Pilot - Week2 Round3\\...  \n",
      "20669  Z:\\2021_ASAP_pilot_study\\Pilot - Week2 Round3\\...  \n",
      "20670  Z:\\2021_ASAP_pilot_study\\Pilot - Week2 Round3\\...  \n",
      "20671  Z:\\2021_ASAP_pilot_study\\Pilot - Week2 Round3\\...  \n",
      "\n",
      "[20672 rows x 10 columns]\n"
     ]
    }
   ],
   "source": [
    "import pandas as pd\n",
    "\n",
    "labels = pd.read_csv('C:/workspace/datasets/binary_sharpness/labels.csv')\n",
    "\n",
    "print(labels)"
   ],
   "metadata": {
    "collapsed": false,
    "pycharm": {
     "name": "#%%\n"
    }
   }
  },
  {
   "cell_type": "code",
   "execution_count": 59,
   "outputs": [
    {
     "name": "stdout",
     "output_type": "stream",
     "text": [
      "       label\n",
      "0          1\n",
      "1          1\n",
      "2          1\n",
      "3          1\n",
      "4          1\n",
      "...      ...\n",
      "20667      0\n",
      "20668      0\n",
      "20669      0\n",
      "20670      0\n",
      "20671      0\n",
      "\n",
      "[20672 rows x 1 columns]\n"
     ]
    }
   ],
   "source": [
    "new_labels = pd.DataFrame(labels['label'].where(labels['label'] == 0, 1))\n",
    "print(new_labels)\n",
    "\n",
    "\n",
    "\n",
    "#new_labels =\n",
    "#df = labels.drop('column_name', 1)"
   ],
   "metadata": {
    "collapsed": false,
    "pycharm": {
     "name": "#%%\n"
    }
   }
  },
  {
   "cell_type": "code",
   "execution_count": 60,
   "outputs": [],
   "source": [
    "new_names = pd.DataFrame((\n",
    "        labels['id'].astype(str) + '_i' +\n",
    "        labels['i'].astype(str) + '_s' +\n",
    "        labels['sample'].astype(str) + '_r' +\n",
    "        labels['rounds'].astype(str) + '_z' +\n",
    "        labels['z'].astype(str) + '_c' +\n",
    "        labels['c'].astype(str) + '.png'))\n",
    "\n",
    "#new_table = pd.DataFrame([new_names, new_labels])\n",
    "\n",
    "new_table = pd.DataFrame().assign(name=new_names, label=new_labels)\n",
    "\n",
    "new_table.to_csv('C:/workspace/datasets/binary_sharpness/labels_1.csv', header=True, index=False)"
   ],
   "metadata": {
    "collapsed": false,
    "pycharm": {
     "name": "#%%\n"
    }
   }
  },
  {
   "cell_type": "code",
   "execution_count": 60,
   "outputs": [],
   "source": [],
   "metadata": {
    "collapsed": false,
    "pycharm": {
     "name": "#%%\n"
    }
   }
  }
 ],
 "metadata": {
  "kernelspec": {
   "display_name": "Python 3",
   "language": "python",
   "name": "python3"
  },
  "language_info": {
   "codemirror_mode": {
    "name": "ipython",
    "version": 2
   },
   "file_extension": ".py",
   "mimetype": "text/x-python",
   "name": "python",
   "nbconvert_exporter": "python",
   "pygments_lexer": "ipython2",
   "version": "2.7.6"
  }
 },
 "nbformat": 4,
 "nbformat_minor": 0
}